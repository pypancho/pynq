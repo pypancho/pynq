{
 "cells": [
  {
   "cell_type": "markdown",
   "metadata": {},
   "source": [
    "# Now, every face will be cropped and saved"
   ]
  },
  {
   "cell_type": "code",
   "execution_count": 4,
   "metadata": {},
   "outputs": [],
   "source": [
    "# In this cell, some libraries were imported\n",
    "import cv2\n",
    "import sys\n",
    "import os\n",
    "from PIL import Image, ImageDraw\n",
    "import pylab"
   ]
  },
  {
   "cell_type": "code",
   "execution_count": 5,
   "metadata": {},
   "outputs": [],
   "source": [
    "# Face Detection Function\n",
    "def detectFaces(image_name):\n",
    "    print (\"Face Detection Start.\")\n",
    "    # Read the image and convert to gray to reduce the data\n",
    "    img = cv2.imread(image_name)\n",
    "    gray = cv2.cvtColor(img, cv2.COLOR_BGR2GRAY)#Color => Gray\n",
    "    \n",
    "    # The haarcascades classifier is used to train data\n",
    "    face_cascade = cv2.CascadeClassifier(\"/usr/share/opencv/haarcascades/haarcascade_frontalface_default.xml\")\n",
    "    faces = face_cascade.detectMultiScale(gray, 1.2, 5)#1.3 and 5are the min and max windows of the treatures\n",
    "    result = []\n",
    "    for (x,y,width,height) in faces:\n",
    "        result.append((x,y,x+width,y+height))\n",
    "    #print (\"Face Detection Complete.\")\n",
    "    return result"
   ]
  },
  {
   "cell_type": "code",
   "execution_count": 6,
   "metadata": {},
   "outputs": [
    {
     "name": "stdout",
     "output_type": "stream",
     "text": [
      "Face Detection Start.\n",
      "Congratulation! The 1 image were done.\n",
      "Congratulation! The total of the 1 faces in the 2 image.\n",
      "Face Detection Start.\n",
      "Congratulation! The 2 image were done.\n",
      "Congratulation! The total of the 1 faces in the 3 image.\n"
     ]
    }
   ],
   "source": [
    "#Crop faces and save them in the same directory\n",
    "filepath =\"/home/xilinx/jupyter_notebooks/OpenCV/Face_Detection/images/\"\n",
    "dir_path =\"/home/xilinx/jupyter_notebooks/OpenCV/Face_Detection/\"\n",
    "filecount = len(os.listdir(filepath))-1\n",
    "image_count = 1#count is the number of images\n",
    "for fn in os.listdir(filepath): #fn 表示的是文件名\n",
    "    if image_count <= filecount:\n",
    "        image_name = str(image_count) + '.JPG'\n",
    "        image_path = filepath + image_name\n",
    "        image_new = dir_path + image_name\n",
    "        #print (image_path)\n",
    "        #print (image_new)\n",
    "        os.system('cp '+(image_path)+ (' /home/xilinx/jupyter_notebooks/OpenCV/Face_Detection/'))\n",
    "        faces = detectFaces(image_name)\n",
    "        if faces:\n",
    "            #All croped face images will be saved in a subdirectory\n",
    "            face_name = image_name.split('.')[0]\n",
    "            #os.mkdir(save_dir)\n",
    "            count = 0\n",
    "            for (x1,y1,x2,y2) in faces:\n",
    "                file_name = os.path.join(dir_path,face_name+str(count)+\".jpg\")\n",
    "                Image.open(image_name).crop((x1,y1,x2,y2)).save(file_name)\n",
    "                #os.system('rm -rf '+(image_path)+' /home/xilinx/jupyter_notebooks/OpenCV/Face_Detection/')\n",
    "                count+=1    \n",
    "        os.system('rm -rf '+(image_new))\n",
    "        print(\"Congratulation! The \" + str(image_count) +\" image were done.\")\n",
    "        image_count = image_count + 1\n",
    "        print(\"Congratulation! The total of the \" + str(count) + \" faces in the \" +str(image_count) + \" image.\")"
   ]
  },
  {
   "cell_type": "code",
   "execution_count": null,
   "metadata": {},
   "outputs": [],
   "source": []
  }
 ],
 "metadata": {
  "kernelspec": {
   "display_name": "Python 3",
   "language": "python",
   "name": "python3"
  },
  "language_info": {
   "codemirror_mode": {
    "name": "ipython",
    "version": 3
   },
   "file_extension": ".py",
   "mimetype": "text/x-python",
   "name": "python",
   "nbconvert_exporter": "python",
   "pygments_lexer": "ipython3",
   "version": "3.6.0"
  }
 },
 "nbformat": 4,
 "nbformat_minor": 2
}
